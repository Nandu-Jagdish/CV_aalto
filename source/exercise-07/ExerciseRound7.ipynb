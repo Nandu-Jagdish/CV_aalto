{
 "cells": [
  {
   "cell_type": "code",
   "execution_count": 1,
   "metadata": {
    "tags": []
   },
   "outputs": [
    {
     "data": {
      "text/html": [
       "<script>\n",
       "code_show=true;\n",
       "function code_toggle() {\n",
       "if (code_show){\n",
       "$('div.input').hide();\n",
       "} else {\n",
       "$('div.input').show();\n",
       "}\n",
       "code_show = !code_show\n",
       "}\n",
       "$( document ).ready(code_toggle);\n",
       "</script>\n",
       "<form action=\"javascript:code_toggle()\"><input type=\"submit\" value=\"Click here to toggle on/off the raw code.\"></form>"
      ],
      "text/plain": [
       "<IPython.core.display.HTML object>"
      ]
     },
     "execution_count": 1,
     "metadata": {},
     "output_type": "execute_result"
    }
   ],
   "source": [
    "# This cell is used for creating a button that hides/unhides code cells to quickly look only the results.\n",
    "# Works only with Jupyter Notebooks.\n",
    "\n",
    "import os\n",
    "from IPython.display import HTML\n",
    "\n",
    "HTML('''<script>\n",
    "code_show=true;\n",
    "function code_toggle() {\n",
    "if (code_show){\n",
    "$('div.input').hide();\n",
    "} else {\n",
    "$('div.input').show();\n",
    "}\n",
    "code_show = !code_show\n",
    "}\n",
    "$( document ).ready(code_toggle);\n",
    "</script>\n",
    "<form action=\"javascript:code_toggle()\"><input type=\"submit\" value=\"Click here to toggle on/off the raw code.\"></form>''')"
   ]
  },
  {
   "cell_type": "code",
   "execution_count": 3,
   "metadata": {
    "tags": []
   },
   "outputs": [
    {
     "name": "stdout",
     "output_type": "stream",
     "text": [
      "The data directory is /home/jovyan/work/coursedata/\n",
      "Data stored in /home/jovyan/work/coursedata/exercise-07-data\n"
     ]
    }
   ],
   "source": [
    "# Description:\n",
    "#   Exercise7 notebook.\n",
    "#\n",
    "# Copyright (C) 2018 Santiago Cortes, Juha Ylioinas\n",
    "#\n",
    "# This software is distributed under the GNU General Public \n",
    "# Licence (version 2 or later); please refer to the file \n",
    "# Licence.txt, included with the software, for details.\n",
    "\n",
    "# Preparations\n",
    "import numpy as np\n",
    "\n",
    "# Select data directory\n",
    "if os.path.isdir('/coursedata'):\n",
    "    # JupyterHub\n",
    "    course_data_dir = '/coursedata'\n",
    "elif os.path.isdir('../../../coursedata'):\n",
    "    # Local installation\n",
    "    course_data_dir = '../../../coursedata'\n",
    "else:\n",
    "    # Docker\n",
    "    course_data_dir = '/home/jovyan/work/coursedata/'\n",
    "\n",
    "print('The data directory is %s' % course_data_dir)\n",
    "data_dir = os.path.join(course_data_dir, 'exercise-07-data')\n",
    "print('Data stored in %s' % data_dir)"
   ]
  },
  {
   "cell_type": "markdown",
   "metadata": {},
   "source": [
    "# CS-E4850 Computer Vision Exercise Round 7\n",
    "The problems should be solved before the exercise session and solutions returned via\n",
    "MyCourses. <br><br> For this exercise round, upload this notebook(pdf and .ipynb versions) containing your source codes (for Exercise 1) and your answer to the question of Exercise2, and all the answers to the questions of Exercise 3 (VGG practical), see part[1-3].ipynb. Note that it's not necessary to upload part1.ipynb, part2.ipynb or part3.ipynb, because all of the necessary questions related to them are contained in this notebook and you're not expected to do any coding in Exercises 2 and 3."
   ]
  },
  {
   "cell_type": "markdown",
   "metadata": {},
   "source": [
    "## Exercise 1 - Comparing  bags-of-words  with  tf-idf  weighting\n",
    "Assume  that  we  have  an  indexed  collection  of  documents  containing  the  five  terms  of the following table where the second row indicates the percentage of documents in which each term appears.<br>\n",
    "\n",
    "| term | cat | dog |mammals | mouse | pet |\n",
    "| --- | :---: | :---: | :---: | :---: | :---: |\n",
    "| **% of documents** | 5 | 20 | 2 | 10 | 60 |\n",
    "\n",
    "Now, given the query $Q=\\{mouse, cat, pet, mammals\\}$, compute the similarity between $Q$ and the following example documents $D1$, $D2$, $D3$, by using the cosine similarity measure and tf-idf weights (i.e. term frequency - inverse document frequency) for the bag-of-words histogram representations of the documents and the query.\n",
    "\n",
    "-  $D1$ = Cat is a pet, dog is a pet, and mouse may be a pet too.\n",
    "-  $D2$ = Cat, dog and mouse are all mammals.\n",
    "-  $D3$ = Cat and dog get along well, but cat may eat a mouse.\n",
    "\n",
    "Ignore other words except the five terms, which are listed in the table above. You may proceed with the following steps:\n",
    "\n",
    "a) Compute and report the inverse document frequency (idf) for each of the five terms. Use the logarithm with base 2.  (idf is the logarithm term on slide 69 of Lecture 6 where values $n_i/N$ are given in the table above.)<br>\n",
    "b) Compute the term frequencies for the query and each document. <br>\n",
    "c) Form the tf-idf weighted word occurrence histograms for the query and documents. <br>\n",
    "d) Evaluate the cosine similarity between the query and each document (i.e.\\ normalized scalar product between the weighted occurrence histograms as shown on slide 45).<br> \n",
    "e) Report the relative ranking of the documents. (You should get similarities 0.95, 0.64, and 0.63, but you need to determine which corresponds to which document.)<br>"
   ]
  },
  {
   "cell_type": "code",
   "execution_count": 13,
   "metadata": {},
   "outputs": [
    {
     "name": "stdout",
     "output_type": "stream",
     "text": [
      "idf_cat = 4.32\n",
      "idf_dog = 2.32\n",
      "idf_mammals = 5.64\n",
      "idf_mouse = 3.32\n",
      "idf_pet = 0.74\n",
      "{'cat': [0.06666666666666667, 0.0, 0.1, 0.0], 'dog': [0.06666666666666667, 0.14285714285714285, 0.0, 0.0], 'mammals': [0.0, 0.0, 0.0, 0.0], 'mouse': [0.06666666666666667, 0.14285714285714285, 0.0, 0.2], 'pet': [0.06666666666666667, 0.0, 0.0, 0.0]}\n",
      "{'cat': [0.2881285396591575, 0.0, 0.4321928094887363, 0.0], 'dog': [0.15479520632582414, 0.33170401355533746, 0.0, 0.0], 'mammals': [0.0, 0.0, 0.0, 0.0], 'mouse': [0.22146187299249082, 0.4745611564124803, 0.0, 0.6643856189774725], 'pet': [0.04913103961108042, 0.0, 0.0, 0.0]}\n",
      "Cosine simitlarity {0: 0.39804375577338336, 1: 0.5789955472922655, 2: 0.4321928094887363, 3: 0.6643856189774725}\n"
     ]
    }
   ],
   "source": [
    "## Comparing  bags-of-words  with  tf-idf  weighting\n",
    "##--your-code-starts-here--##\n",
    "import math\n",
    "data = {\n",
    "    \"cat\": 5,\n",
    "    \"dog\": 20,\n",
    "    \"mammals\": 2,\n",
    "    \"mouse\": 10,\n",
    "    \"pet\": 60\n",
    "}\n",
    "\n",
    "N = 100\n",
    "\n",
    "idf_values = {}\n",
    "for term, n_i in data.items():\n",
    "    idf = math.log2(N / n_i)\n",
    "    idf_values[term] = idf\n",
    "    print(f\"idf_{term} = {idf:.2f}\")\n",
    "\n",
    "# Term frequency for each query\n",
    "QueryList =[ 'Cat is a pet, dog is a pet, and mouse may be a pet too.', 'Cat, dog and mouse are all mammals.', 'Every cat should eat a mouse, but cats like milk.', 'Mouse may be a pet.']\n",
    "\n",
    "#term frequency for each term\n",
    "# get the list of terms from the data dictionary\n",
    "terms = list(data.keys())\n",
    "#find the number of occurance of each term in each query\n",
    "tf_values = {}\n",
    "for query in QueryList:\n",
    "    for term in terms:\n",
    "        if term not in tf_values:\n",
    "            tf_values[term] = [0] * len(QueryList)\n",
    "        tf_values[term][QueryList.index(query)] = query.lower().split().count(term)/len(query.split())\n",
    "print(tf_values)\n",
    "\n",
    "#tf-idf for each term in each query\n",
    "tf_idf_values = {}\n",
    "for term in terms:\n",
    "    if term not in tf_idf_values:\n",
    "        tf_idf_values[term] = [0] * len(QueryList)\n",
    "    for i in range(len(QueryList)):\n",
    "        tf_idf_values[term][i] = tf_values[term][i] * idf_values[term]\n",
    "print(tf_idf_values)\n",
    "\n",
    "#cosine similarity between the query and each document\n",
    "# import mat\n",
    "\n",
    "\n",
    "\n",
    "\n",
    "##--your-code-ends-here--##"
   ]
  },
  {
   "cell_type": "markdown",
   "metadata": {},
   "source": [
    "## Exercise 2 - Precision  and  recall\n",
    "There is a database of 10000 images and a user, who is only interested in images which contain a car. It is known that there are 500 such images in the database. An  automatic image retrieval system retrieves 300 car images and 50 other images from the database. Determine and report the precision and recall of the retrieval  system in this particular case.<br> \n",
    "(Hint: Precision and recall are explained on slide 67 of Lecture 6 and there is a good explanation also in Wikipedia.)"
   ]
  },
  {
   "cell_type": "markdown",
   "metadata": {},
   "source": [
    "Type your answer here:\n",
    "precision = #relevant / #returned\n",
    "relevant = 300\n",
    "returned = 300+50 = 350\n",
    "300/350 = 0.8571428571428571\n",
    "\n",
    "\n",
    "recall = #relevant / #total relevant\n",
    "relevant = 300\n",
    "total relevant = 500\n",
    "300/500 = 0.6\n",
    "\n",
    "\n",
    "Precision = 0.8571428571428571\n",
    "Recall = 0.6"
   ]
  },
  {
   "cell_type": "markdown",
   "metadata": {},
   "source": [
    "## Exercise 3 - VGG practical on object instance recognition\n",
    "See the questions in part[1-3].ipynb and write your answers here.\n",
    "\n",
    "Part1:\n",
    "Stage I.A (two questions)\n",
    "Stage I.B (two questions)\n",
    "Stage I.C (one question)\n",
    "\n",
    "Part2 (one question)\n",
    "\n",
    "Part3:\n",
    "Stage III.A (three questions)\n",
    "Stage III.B (one question)\n",
    "Stage III.C (two questions)\n",
    "\n",
    "Answering questions in part 1 corresponds to one bonus point and parts 2 and 3 together correspond to one additional point. Hence, in total this third task is worth of 2 points, whereas the previous tasks (Exercise 1 and Exercise 2) are both worth of 1 point so that in total this homework round is worth of 4 points."
   ]
  },
  {
   "cell_type": "markdown",
   "metadata": {},
   "source": [
    "Type your answers here: "
   ]
  }
 ],
 "metadata": {
  "kernelspec": {
   "display_name": "Python 3",
   "language": "python",
   "name": "python3"
  },
  "language_info": {
   "codemirror_mode": {
    "name": "ipython",
    "version": 3
   },
   "file_extension": ".py",
   "mimetype": "text/x-python",
   "name": "python",
   "nbconvert_exporter": "python",
   "pygments_lexer": "ipython3",
   "version": "3.10.9"
  },
  "vscode": {
   "interpreter": {
    "hash": "31f2aee4e71d21fbe5cf8b01ff0e069b9275f58929596ceb00d14d90e3e16cd6"
   }
  }
 },
 "nbformat": 4,
 "nbformat_minor": 4
}
